{
 "cells": [
  {
   "cell_type": "code",
   "execution_count": 19,
   "metadata": {},
   "outputs": [],
   "source": [
    "import cv2\n",
    "import numpy as np"
   ]
  },
  {
   "cell_type": "markdown",
   "metadata": {},
   "source": [
    "### Open, View, and Save Image"
   ]
  },
  {
   "cell_type": "code",
   "execution_count": 2,
   "metadata": {},
   "outputs": [
    {
     "name": "stdout",
     "output_type": "stream",
     "text": [
      "[[163 162 161 ... 170 154 130]\n",
      " [162 162 162 ... 173 155 126]\n",
      " [162 162 163 ... 170 155 128]\n",
      " ...\n",
      " [ 43  42  51 ... 103 101  99]\n",
      " [ 41  42  55 ... 103 105 106]\n",
      " [ 42  44  57 ... 102 106 109]]\n"
     ]
    }
   ],
   "source": [
    "img = cv2.imread('C:/Users/samue/Python Data/opencv-master/samples/data/lena.jpg', 0) #load image in grayscale\n",
    "print(img)\n",
    "\n",
    "cv2.imshow('image', img)\n",
    "k = cv2.waitKey(0) & 0xFF #shows the window until close, provides mask\n",
    "\n",
    "if k == 27: #escape key\n",
    "    cv2.destroyAllWindows()\n",
    "elif k == ord(\"s\"): #if s key is pressed\n",
    "    cv2.imwrite('lena_copy.png', img) #save image \n",
    "    cv2.destroyAllWindows()"
   ]
  },
  {
   "cell_type": "markdown",
   "metadata": {},
   "source": [
    "### Open, View, and Save Video"
   ]
  },
  {
   "cell_type": "code",
   "execution_count": 7,
   "metadata": {},
   "outputs": [],
   "source": [
    "cap = cv2.VideoCapture(0) #device index, default webcam from device\n",
    "fourcc = cv2.VideoWriter_fourcc(*\"XVID\") #fourcc code\n",
    "out = cv2.VideoWriter('output.avi', fourcc, 30, (640, 480)) #30fps and size of video\n",
    "\n",
    "\n",
    "while(cap.isOpened()): #while camera is open \n",
    "    ret, frame = cap.read() #capture and save frame from video \n",
    "    \n",
    "    if ret == True:\n",
    "    \n",
    "        #print(cap.get(cv2.CAP_PROP_FRAME_WIDTH))\n",
    "        #print(cap.get(cv2.CAP_PROP_FRAME_HEIGHT))\n",
    "        \n",
    "        out.write(frame) #write frame to variable\n",
    "        \n",
    "        gray = cv2.cvtColor(frame, cv2.COLOR_BGR2GRAY) #change to grayscale image\n",
    "        cv2.imshow('frame', gray)\n",
    "\n",
    "        if cv2.waitKey(1) & 0xFF == ord(\"q\"):\n",
    "            break\n",
    "            \n",
    "    else: \n",
    "        break\n",
    "    \n",
    "cap.release()\n",
    "out.release() #convert to video\n",
    "cv2.destroyAllWindows()"
   ]
  },
  {
   "cell_type": "markdown",
   "metadata": {},
   "source": [
    "### Drawing Function"
   ]
  },
  {
   "cell_type": "code",
   "execution_count": 43,
   "metadata": {},
   "outputs": [],
   "source": [
    "import numpy as np \n",
    "\n",
    "#img = cv2.imread('C:/Users/samue/Python Data/opencv-master/samples/data/lena.jpg', 1)\n",
    "\n",
    "img = np.zeros([512, 512, 3]) #inside list is height, width, and 3 default for black image\n",
    "\n",
    "img = cv2.line(img, (0,0), (255,255), (0,0, 255), 5) #draw a line through image using start and end coordinate tuples, color using BGR, and line thickness\n",
    "img = cv2.arrowedLine(img, (0, 255), (255, 255), (255, 0, 0), 5)\n",
    "\n",
    "img = cv2.rectangle(img, (380, 0), (510, 128), (0, 255, 0), -1) #top left and bottom right coordinates, negative fills in the shape\n",
    "img = cv2.circle(img, (447, 64), 30, (32,102, 208), 5)\n",
    "font = cv2.FONT_HERSHEY_SIMPLEX\n",
    "img = cv2.putText(img, 'Hello!', (40, 500), font, 4, (255, 255, 255), 4, cv2.LINE_AA)\n",
    "\n",
    "cv2.imshow('image', img)\n",
    "\n",
    "cv2.waitKey(0)\n",
    "cv2.destroyAllWindows()"
   ]
  },
  {
   "cell_type": "markdown",
   "metadata": {},
   "source": [
    "### Add Text to Video "
   ]
  },
  {
   "cell_type": "code",
   "execution_count": 15,
   "metadata": {},
   "outputs": [
    {
     "name": "stdout",
     "output_type": "stream",
     "text": [
      "640.0\n",
      "480.0\n"
     ]
    }
   ],
   "source": [
    "import datetime\n",
    "\n",
    "cap = cv2.VideoCapture(0) #device index, default webcam from device\n",
    "print(cap.get(cv2.CAP_PROP_FRAME_WIDTH))\n",
    "print(cap.get(cv2.CAP_PROP_FRAME_HEIGHT))\n",
    "\n",
    "#cap.set(cv2.CAP_PROP_FRAME_WIDTH, 2000) #relies on camera resolution\n",
    "#cap.set(cv2.CAP_PROP_FRAME_HEIGHT, 2000)\n",
    "\n",
    "#print(cap.get(3)) #3 and 4 are the cv properties for width and height\n",
    "#print(cap.get(4))\n",
    "\n",
    "\n",
    "while(cap.isOpened()): #while camera is open \n",
    "    ret, frame = cap.read() #capture and save frame from video \n",
    "    \n",
    "    if ret == True:\n",
    "        \n",
    "        font = cv2.FONT_HERSHEY_SIMPLEX\n",
    "        #text = 'Width: ' +  str(cap.get(3)) + ' Height: ' + str(cap.get(4))\n",
    "        time = str(datetime.datetime.now())\n",
    "        frame = cv2.putText(frame, time, (10, 50), font, 1, (0, 255, 255), 2, cv2.LINE_AA)\n",
    "        cv2.imshow('frame', frame)\n",
    "\n",
    "        if cv2.waitKey(1) & 0xFF == ord(\"q\"):\n",
    "            break\n",
    "            \n",
    "    else: \n",
    "        break\n",
    "    \n",
    "cap.release()\n",
    "cv2.destroyAllWindows()"
   ]
  },
  {
   "cell_type": "markdown",
   "metadata": {},
   "source": [
    "### Handle Mouse Events"
   ]
  },
  {
   "cell_type": "code",
   "execution_count": 16,
   "metadata": {},
   "outputs": [
    {
     "data": {
      "text/plain": [
       "['EVENT_FLAG_ALTKEY',\n",
       " 'EVENT_FLAG_CTRLKEY',\n",
       " 'EVENT_FLAG_LBUTTON',\n",
       " 'EVENT_FLAG_MBUTTON',\n",
       " 'EVENT_FLAG_RBUTTON',\n",
       " 'EVENT_FLAG_SHIFTKEY',\n",
       " 'EVENT_LBUTTONDBLCLK',\n",
       " 'EVENT_LBUTTONDOWN',\n",
       " 'EVENT_LBUTTONUP',\n",
       " 'EVENT_MBUTTONDBLCLK',\n",
       " 'EVENT_MBUTTONDOWN',\n",
       " 'EVENT_MBUTTONUP',\n",
       " 'EVENT_MOUSEHWHEEL',\n",
       " 'EVENT_MOUSEMOVE',\n",
       " 'EVENT_MOUSEWHEEL',\n",
       " 'EVENT_RBUTTONDBLCLK',\n",
       " 'EVENT_RBUTTONDOWN',\n",
       " 'EVENT_RBUTTONUP']"
      ]
     },
     "execution_count": 16,
     "metadata": {},
     "output_type": "execute_result"
    }
   ],
   "source": [
    "events = [i for i in dir(cv2) if 'EVENT' in i]\n",
    "events"
   ]
  },
  {
   "cell_type": "code",
   "execution_count": 26,
   "metadata": {},
   "outputs": [],
   "source": [
    "def click_event(event, x, y, flags, param):\n",
    "    if event == cv2.EVENT_LBUTTONDOWN:\n",
    "        print(x, \", \", y)\n",
    "        font = cv2.FONT_HERSHEY_SIMPLEX\n",
    "        strXY = str(x) + ', ' + str(y)\n",
    "        cv2.putText(img, strXY, (x, y), font, 0.5, (255, 255, 0), 1)\n",
    "        cv2.imshow('image', img)\n",
    "    \n",
    "    if event == cv2.EVENT_RBUTTONDOWN: #show bgr channel for location clickedq\n",
    "        blue = img[y, x, 0] #0 is channel for blue color\n",
    "        green = img[y, x, 1] \n",
    "        red = img[y, x, 2]\n",
    "        font = cv2.FONT_HERSHEY_SIMPLEX\n",
    "        bgr = str(blue) + ', ' + str(green) + ', ' + str(red)\n",
    "        cv2.putText(img, bgr, (x, y), font, 0.5, (0, 255, 255, 1)\n",
    "        cv2.imshow('image', img)"
   ]
  },
  {
   "cell_type": "code",
   "execution_count": 28,
   "metadata": {},
   "outputs": [
    {
     "name": "stdout",
     "output_type": "stream",
     "text": [
      "89 ,  63\n"
     ]
    }
   ],
   "source": [
    "#img = np.zeros((512, 512, 3), np.uint8)\n",
    "img = cv2.imread('C:/Users/samue/Python Data/opencv-master/samples/data/lena.jpg', 1)\n",
    "\n",
    "cv2.imshow('image', img)\n",
    "\n",
    "cv2.setMouseCallback('image', click_event)\n",
    "\n",
    "cv2.waitKey(0)\n",
    "cv2.destroyAllWindows()"
   ]
  },
  {
   "cell_type": "code",
   "execution_count": null,
   "metadata": {},
   "outputs": [],
   "source": []
  }
 ],
 "metadata": {
  "kernelspec": {
   "display_name": "Python 3",
   "language": "python",
   "name": "python3"
  },
  "language_info": {
   "codemirror_mode": {
    "name": "ipython",
    "version": 3
   },
   "file_extension": ".py",
   "mimetype": "text/x-python",
   "name": "python",
   "nbconvert_exporter": "python",
   "pygments_lexer": "ipython3",
   "version": "3.8.3"
  }
 },
 "nbformat": 4,
 "nbformat_minor": 4
}
